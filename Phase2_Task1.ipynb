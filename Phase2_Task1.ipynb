{
  "nbformat": 4,
  "nbformat_minor": 0,
  "metadata": {
    "colab": {
      "provenance": [],
      "authorship_tag": "ABX9TyPWjFxZv7PhEZuZFJRGdi0m",
      "include_colab_link": true
    },
    "kernelspec": {
      "name": "python3",
      "display_name": "Python 3"
    },
    "language_info": {
      "name": "python"
    }
  },
  "cells": [
    {
      "cell_type": "markdown",
      "metadata": {
        "id": "view-in-github",
        "colab_type": "text"
      },
      "source": [
        "<a href=\"https://colab.research.google.com/github/madhumithadasarathy/COB_DataScience/blob/main/Phase2_Task1.ipynb\" target=\"_parent\"><img src=\"https://colab.research.google.com/assets/colab-badge.svg\" alt=\"Open In Colab\"/></a>"
      ]
    },
    {
      "cell_type": "markdown",
      "source": [
        "# Importing Necessary Libraries"
      ],
      "metadata": {
        "id": "-kpBHshGvwtJ"
      }
    },
    {
      "cell_type": "code",
      "execution_count": 4,
      "metadata": {
        "id": "BBsiZOECpSTI"
      },
      "outputs": [],
      "source": [
        "import numpy as np\n",
        "import pandas as pd\n",
        "import matplotlib.pyplot as plt\n",
        "import seaborn as sns"
      ]
    },
    {
      "cell_type": "markdown",
      "source": [
        "# Loading the Dataset"
      ],
      "metadata": {
        "id": "QObCnMBswJNi"
      }
    },
    {
      "cell_type": "code",
      "source": [
        "df = pd.read_csv(\"/content/dataset - netflix1.csv\")\n",
        "df.head()"
      ],
      "metadata": {
        "colab": {
          "base_uri": "https://localhost:8080/",
          "height": 293
        },
        "id": "lLf1mgrXqT6o",
        "outputId": "cba10d03-5e1a-46ac-d196-e8e1d44b4646"
      },
      "execution_count": 5,
      "outputs": [
        {
          "output_type": "execute_result",
          "data": {
            "text/plain": [
              "  show_id     type                             title         director  \\\n",
              "0      s1    Movie              Dick Johnson Is Dead  Kirsten Johnson   \n",
              "1      s3  TV Show                         Ganglands  Julien Leclercq   \n",
              "2      s6  TV Show                     Midnight Mass    Mike Flanagan   \n",
              "3     s14    Movie  Confessions of an Invisible Girl    Bruno Garotti   \n",
              "4      s8    Movie                           Sankofa     Haile Gerima   \n",
              "\n",
              "         country date_added  release_year rating  duration  \\\n",
              "0  United States  9/25/2021          2020  PG-13    90 min   \n",
              "1         France  9/24/2021          2021  TV-MA  1 Season   \n",
              "2  United States  9/24/2021          2021  TV-MA  1 Season   \n",
              "3         Brazil  9/22/2021          2021  TV-PG    91 min   \n",
              "4  United States  9/24/2021          1993  TV-MA   125 min   \n",
              "\n",
              "                                           listed_in  \n",
              "0                                      Documentaries  \n",
              "1  Crime TV Shows, International TV Shows, TV Act...  \n",
              "2                 TV Dramas, TV Horror, TV Mysteries  \n",
              "3                 Children & Family Movies, Comedies  \n",
              "4   Dramas, Independent Movies, International Movies  "
            ],
            "text/html": [
              "\n",
              "  <div id=\"df-6f950664-1f4b-4129-b0a6-3573e82bf95c\" class=\"colab-df-container\">\n",
              "    <div>\n",
              "<style scoped>\n",
              "    .dataframe tbody tr th:only-of-type {\n",
              "        vertical-align: middle;\n",
              "    }\n",
              "\n",
              "    .dataframe tbody tr th {\n",
              "        vertical-align: top;\n",
              "    }\n",
              "\n",
              "    .dataframe thead th {\n",
              "        text-align: right;\n",
              "    }\n",
              "</style>\n",
              "<table border=\"1\" class=\"dataframe\">\n",
              "  <thead>\n",
              "    <tr style=\"text-align: right;\">\n",
              "      <th></th>\n",
              "      <th>show_id</th>\n",
              "      <th>type</th>\n",
              "      <th>title</th>\n",
              "      <th>director</th>\n",
              "      <th>country</th>\n",
              "      <th>date_added</th>\n",
              "      <th>release_year</th>\n",
              "      <th>rating</th>\n",
              "      <th>duration</th>\n",
              "      <th>listed_in</th>\n",
              "    </tr>\n",
              "  </thead>\n",
              "  <tbody>\n",
              "    <tr>\n",
              "      <th>0</th>\n",
              "      <td>s1</td>\n",
              "      <td>Movie</td>\n",
              "      <td>Dick Johnson Is Dead</td>\n",
              "      <td>Kirsten Johnson</td>\n",
              "      <td>United States</td>\n",
              "      <td>9/25/2021</td>\n",
              "      <td>2020</td>\n",
              "      <td>PG-13</td>\n",
              "      <td>90 min</td>\n",
              "      <td>Documentaries</td>\n",
              "    </tr>\n",
              "    <tr>\n",
              "      <th>1</th>\n",
              "      <td>s3</td>\n",
              "      <td>TV Show</td>\n",
              "      <td>Ganglands</td>\n",
              "      <td>Julien Leclercq</td>\n",
              "      <td>France</td>\n",
              "      <td>9/24/2021</td>\n",
              "      <td>2021</td>\n",
              "      <td>TV-MA</td>\n",
              "      <td>1 Season</td>\n",
              "      <td>Crime TV Shows, International TV Shows, TV Act...</td>\n",
              "    </tr>\n",
              "    <tr>\n",
              "      <th>2</th>\n",
              "      <td>s6</td>\n",
              "      <td>TV Show</td>\n",
              "      <td>Midnight Mass</td>\n",
              "      <td>Mike Flanagan</td>\n",
              "      <td>United States</td>\n",
              "      <td>9/24/2021</td>\n",
              "      <td>2021</td>\n",
              "      <td>TV-MA</td>\n",
              "      <td>1 Season</td>\n",
              "      <td>TV Dramas, TV Horror, TV Mysteries</td>\n",
              "    </tr>\n",
              "    <tr>\n",
              "      <th>3</th>\n",
              "      <td>s14</td>\n",
              "      <td>Movie</td>\n",
              "      <td>Confessions of an Invisible Girl</td>\n",
              "      <td>Bruno Garotti</td>\n",
              "      <td>Brazil</td>\n",
              "      <td>9/22/2021</td>\n",
              "      <td>2021</td>\n",
              "      <td>TV-PG</td>\n",
              "      <td>91 min</td>\n",
              "      <td>Children &amp; Family Movies, Comedies</td>\n",
              "    </tr>\n",
              "    <tr>\n",
              "      <th>4</th>\n",
              "      <td>s8</td>\n",
              "      <td>Movie</td>\n",
              "      <td>Sankofa</td>\n",
              "      <td>Haile Gerima</td>\n",
              "      <td>United States</td>\n",
              "      <td>9/24/2021</td>\n",
              "      <td>1993</td>\n",
              "      <td>TV-MA</td>\n",
              "      <td>125 min</td>\n",
              "      <td>Dramas, Independent Movies, International Movies</td>\n",
              "    </tr>\n",
              "  </tbody>\n",
              "</table>\n",
              "</div>\n",
              "    <div class=\"colab-df-buttons\">\n",
              "\n",
              "  <div class=\"colab-df-container\">\n",
              "    <button class=\"colab-df-convert\" onclick=\"convertToInteractive('df-6f950664-1f4b-4129-b0a6-3573e82bf95c')\"\n",
              "            title=\"Convert this dataframe to an interactive table.\"\n",
              "            style=\"display:none;\">\n",
              "\n",
              "  <svg xmlns=\"http://www.w3.org/2000/svg\" height=\"24px\" viewBox=\"0 -960 960 960\">\n",
              "    <path d=\"M120-120v-720h720v720H120Zm60-500h600v-160H180v160Zm220 220h160v-160H400v160Zm0 220h160v-160H400v160ZM180-400h160v-160H180v160Zm440 0h160v-160H620v160ZM180-180h160v-160H180v160Zm440 0h160v-160H620v160Z\"/>\n",
              "  </svg>\n",
              "    </button>\n",
              "\n",
              "  <style>\n",
              "    .colab-df-container {\n",
              "      display:flex;\n",
              "      gap: 12px;\n",
              "    }\n",
              "\n",
              "    .colab-df-convert {\n",
              "      background-color: #E8F0FE;\n",
              "      border: none;\n",
              "      border-radius: 50%;\n",
              "      cursor: pointer;\n",
              "      display: none;\n",
              "      fill: #1967D2;\n",
              "      height: 32px;\n",
              "      padding: 0 0 0 0;\n",
              "      width: 32px;\n",
              "    }\n",
              "\n",
              "    .colab-df-convert:hover {\n",
              "      background-color: #E2EBFA;\n",
              "      box-shadow: 0px 1px 2px rgba(60, 64, 67, 0.3), 0px 1px 3px 1px rgba(60, 64, 67, 0.15);\n",
              "      fill: #174EA6;\n",
              "    }\n",
              "\n",
              "    .colab-df-buttons div {\n",
              "      margin-bottom: 4px;\n",
              "    }\n",
              "\n",
              "    [theme=dark] .colab-df-convert {\n",
              "      background-color: #3B4455;\n",
              "      fill: #D2E3FC;\n",
              "    }\n",
              "\n",
              "    [theme=dark] .colab-df-convert:hover {\n",
              "      background-color: #434B5C;\n",
              "      box-shadow: 0px 1px 3px 1px rgba(0, 0, 0, 0.15);\n",
              "      filter: drop-shadow(0px 1px 2px rgba(0, 0, 0, 0.3));\n",
              "      fill: #FFFFFF;\n",
              "    }\n",
              "  </style>\n",
              "\n",
              "    <script>\n",
              "      const buttonEl =\n",
              "        document.querySelector('#df-6f950664-1f4b-4129-b0a6-3573e82bf95c button.colab-df-convert');\n",
              "      buttonEl.style.display =\n",
              "        google.colab.kernel.accessAllowed ? 'block' : 'none';\n",
              "\n",
              "      async function convertToInteractive(key) {\n",
              "        const element = document.querySelector('#df-6f950664-1f4b-4129-b0a6-3573e82bf95c');\n",
              "        const dataTable =\n",
              "          await google.colab.kernel.invokeFunction('convertToInteractive',\n",
              "                                                    [key], {});\n",
              "        if (!dataTable) return;\n",
              "\n",
              "        const docLinkHtml = 'Like what you see? Visit the ' +\n",
              "          '<a target=\"_blank\" href=https://colab.research.google.com/notebooks/data_table.ipynb>data table notebook</a>'\n",
              "          + ' to learn more about interactive tables.';\n",
              "        element.innerHTML = '';\n",
              "        dataTable['output_type'] = 'display_data';\n",
              "        await google.colab.output.renderOutput(dataTable, element);\n",
              "        const docLink = document.createElement('div');\n",
              "        docLink.innerHTML = docLinkHtml;\n",
              "        element.appendChild(docLink);\n",
              "      }\n",
              "    </script>\n",
              "  </div>\n",
              "\n",
              "\n",
              "<div id=\"df-f22c6485-51c0-4827-86ad-a71ff5858265\">\n",
              "  <button class=\"colab-df-quickchart\" onclick=\"quickchart('df-f22c6485-51c0-4827-86ad-a71ff5858265')\"\n",
              "            title=\"Suggest charts\"\n",
              "            style=\"display:none;\">\n",
              "\n",
              "<svg xmlns=\"http://www.w3.org/2000/svg\" height=\"24px\"viewBox=\"0 0 24 24\"\n",
              "     width=\"24px\">\n",
              "    <g>\n",
              "        <path d=\"M19 3H5c-1.1 0-2 .9-2 2v14c0 1.1.9 2 2 2h14c1.1 0 2-.9 2-2V5c0-1.1-.9-2-2-2zM9 17H7v-7h2v7zm4 0h-2V7h2v10zm4 0h-2v-4h2v4z\"/>\n",
              "    </g>\n",
              "</svg>\n",
              "  </button>\n",
              "\n",
              "<style>\n",
              "  .colab-df-quickchart {\n",
              "      --bg-color: #E8F0FE;\n",
              "      --fill-color: #1967D2;\n",
              "      --hover-bg-color: #E2EBFA;\n",
              "      --hover-fill-color: #174EA6;\n",
              "      --disabled-fill-color: #AAA;\n",
              "      --disabled-bg-color: #DDD;\n",
              "  }\n",
              "\n",
              "  [theme=dark] .colab-df-quickchart {\n",
              "      --bg-color: #3B4455;\n",
              "      --fill-color: #D2E3FC;\n",
              "      --hover-bg-color: #434B5C;\n",
              "      --hover-fill-color: #FFFFFF;\n",
              "      --disabled-bg-color: #3B4455;\n",
              "      --disabled-fill-color: #666;\n",
              "  }\n",
              "\n",
              "  .colab-df-quickchart {\n",
              "    background-color: var(--bg-color);\n",
              "    border: none;\n",
              "    border-radius: 50%;\n",
              "    cursor: pointer;\n",
              "    display: none;\n",
              "    fill: var(--fill-color);\n",
              "    height: 32px;\n",
              "    padding: 0;\n",
              "    width: 32px;\n",
              "  }\n",
              "\n",
              "  .colab-df-quickchart:hover {\n",
              "    background-color: var(--hover-bg-color);\n",
              "    box-shadow: 0 1px 2px rgba(60, 64, 67, 0.3), 0 1px 3px 1px rgba(60, 64, 67, 0.15);\n",
              "    fill: var(--button-hover-fill-color);\n",
              "  }\n",
              "\n",
              "  .colab-df-quickchart-complete:disabled,\n",
              "  .colab-df-quickchart-complete:disabled:hover {\n",
              "    background-color: var(--disabled-bg-color);\n",
              "    fill: var(--disabled-fill-color);\n",
              "    box-shadow: none;\n",
              "  }\n",
              "\n",
              "  .colab-df-spinner {\n",
              "    border: 2px solid var(--fill-color);\n",
              "    border-color: transparent;\n",
              "    border-bottom-color: var(--fill-color);\n",
              "    animation:\n",
              "      spin 1s steps(1) infinite;\n",
              "  }\n",
              "\n",
              "  @keyframes spin {\n",
              "    0% {\n",
              "      border-color: transparent;\n",
              "      border-bottom-color: var(--fill-color);\n",
              "      border-left-color: var(--fill-color);\n",
              "    }\n",
              "    20% {\n",
              "      border-color: transparent;\n",
              "      border-left-color: var(--fill-color);\n",
              "      border-top-color: var(--fill-color);\n",
              "    }\n",
              "    30% {\n",
              "      border-color: transparent;\n",
              "      border-left-color: var(--fill-color);\n",
              "      border-top-color: var(--fill-color);\n",
              "      border-right-color: var(--fill-color);\n",
              "    }\n",
              "    40% {\n",
              "      border-color: transparent;\n",
              "      border-right-color: var(--fill-color);\n",
              "      border-top-color: var(--fill-color);\n",
              "    }\n",
              "    60% {\n",
              "      border-color: transparent;\n",
              "      border-right-color: var(--fill-color);\n",
              "    }\n",
              "    80% {\n",
              "      border-color: transparent;\n",
              "      border-right-color: var(--fill-color);\n",
              "      border-bottom-color: var(--fill-color);\n",
              "    }\n",
              "    90% {\n",
              "      border-color: transparent;\n",
              "      border-bottom-color: var(--fill-color);\n",
              "    }\n",
              "  }\n",
              "</style>\n",
              "\n",
              "  <script>\n",
              "    async function quickchart(key) {\n",
              "      const quickchartButtonEl =\n",
              "        document.querySelector('#' + key + ' button');\n",
              "      quickchartButtonEl.disabled = true;  // To prevent multiple clicks.\n",
              "      quickchartButtonEl.classList.add('colab-df-spinner');\n",
              "      try {\n",
              "        const charts = await google.colab.kernel.invokeFunction(\n",
              "            'suggestCharts', [key], {});\n",
              "      } catch (error) {\n",
              "        console.error('Error during call to suggestCharts:', error);\n",
              "      }\n",
              "      quickchartButtonEl.classList.remove('colab-df-spinner');\n",
              "      quickchartButtonEl.classList.add('colab-df-quickchart-complete');\n",
              "    }\n",
              "    (() => {\n",
              "      let quickchartButtonEl =\n",
              "        document.querySelector('#df-f22c6485-51c0-4827-86ad-a71ff5858265 button');\n",
              "      quickchartButtonEl.style.display =\n",
              "        google.colab.kernel.accessAllowed ? 'block' : 'none';\n",
              "    })();\n",
              "  </script>\n",
              "</div>\n",
              "\n",
              "    </div>\n",
              "  </div>\n"
            ]
          },
          "metadata": {},
          "execution_count": 5
        }
      ]
    },
    {
      "cell_type": "markdown",
      "source": [
        "# Data Analysis"
      ],
      "metadata": {
        "id": "3AWK_sTUwMyP"
      }
    },
    {
      "cell_type": "markdown",
      "source": [
        "Checking for null values"
      ],
      "metadata": {
        "id": "6sRxUzNlwQHW"
      }
    },
    {
      "cell_type": "code",
      "source": [
        "df.isnull().sum()"
      ],
      "metadata": {
        "colab": {
          "base_uri": "https://localhost:8080/"
        },
        "id": "1ZIVpeD2qjA4",
        "outputId": "d9dea2da-54f2-45de-a98f-a18f7d05db5f"
      },
      "execution_count": 6,
      "outputs": [
        {
          "output_type": "execute_result",
          "data": {
            "text/plain": [
              "show_id         0\n",
              "type            0\n",
              "title           0\n",
              "director        0\n",
              "country         0\n",
              "date_added      0\n",
              "release_year    0\n",
              "rating          0\n",
              "duration        0\n",
              "listed_in       0\n",
              "dtype: int64"
            ]
          },
          "metadata": {},
          "execution_count": 6
        }
      ]
    },
    {
      "cell_type": "markdown",
      "source": [
        "Information about the dataset"
      ],
      "metadata": {
        "id": "Lnqk8k7LwSVP"
      }
    },
    {
      "cell_type": "code",
      "source": [
        "df.info()"
      ],
      "metadata": {
        "colab": {
          "base_uri": "https://localhost:8080/"
        },
        "id": "XgDL0GIxqsDh",
        "outputId": "cfe7fec0-5467-4979-8938-6388b3879ae0"
      },
      "execution_count": 7,
      "outputs": [
        {
          "output_type": "stream",
          "name": "stdout",
          "text": [
            "<class 'pandas.core.frame.DataFrame'>\n",
            "RangeIndex: 8790 entries, 0 to 8789\n",
            "Data columns (total 10 columns):\n",
            " #   Column        Non-Null Count  Dtype \n",
            "---  ------        --------------  ----- \n",
            " 0   show_id       8790 non-null   object\n",
            " 1   type          8790 non-null   object\n",
            " 2   title         8790 non-null   object\n",
            " 3   director      8790 non-null   object\n",
            " 4   country       8790 non-null   object\n",
            " 5   date_added    8790 non-null   object\n",
            " 6   release_year  8790 non-null   int64 \n",
            " 7   rating        8790 non-null   object\n",
            " 8   duration      8790 non-null   object\n",
            " 9   listed_in     8790 non-null   object\n",
            "dtypes: int64(1), object(9)\n",
            "memory usage: 686.8+ KB\n"
          ]
        }
      ]
    },
    {
      "cell_type": "markdown",
      "source": [
        "Dataset Description:"
      ],
      "metadata": {
        "id": "t3OR6wFIwVrX"
      }
    },
    {
      "cell_type": "code",
      "source": [
        "df.describe()"
      ],
      "metadata": {
        "colab": {
          "base_uri": "https://localhost:8080/",
          "height": 300
        },
        "id": "_Y0rNIBXqokG",
        "outputId": "69a5b9a5-ecb1-4e05-f1db-2504b50fecab"
      },
      "execution_count": 8,
      "outputs": [
        {
          "output_type": "execute_result",
          "data": {
            "text/plain": [
              "       release_year\n",
              "count   8790.000000\n",
              "mean    2014.183163\n",
              "std        8.825466\n",
              "min     1925.000000\n",
              "25%     2013.000000\n",
              "50%     2017.000000\n",
              "75%     2019.000000\n",
              "max     2021.000000"
            ],
            "text/html": [
              "\n",
              "  <div id=\"df-f8bb7bd0-7dab-418c-b6c6-ea8ebd2f4005\" class=\"colab-df-container\">\n",
              "    <div>\n",
              "<style scoped>\n",
              "    .dataframe tbody tr th:only-of-type {\n",
              "        vertical-align: middle;\n",
              "    }\n",
              "\n",
              "    .dataframe tbody tr th {\n",
              "        vertical-align: top;\n",
              "    }\n",
              "\n",
              "    .dataframe thead th {\n",
              "        text-align: right;\n",
              "    }\n",
              "</style>\n",
              "<table border=\"1\" class=\"dataframe\">\n",
              "  <thead>\n",
              "    <tr style=\"text-align: right;\">\n",
              "      <th></th>\n",
              "      <th>release_year</th>\n",
              "    </tr>\n",
              "  </thead>\n",
              "  <tbody>\n",
              "    <tr>\n",
              "      <th>count</th>\n",
              "      <td>8790.000000</td>\n",
              "    </tr>\n",
              "    <tr>\n",
              "      <th>mean</th>\n",
              "      <td>2014.183163</td>\n",
              "    </tr>\n",
              "    <tr>\n",
              "      <th>std</th>\n",
              "      <td>8.825466</td>\n",
              "    </tr>\n",
              "    <tr>\n",
              "      <th>min</th>\n",
              "      <td>1925.000000</td>\n",
              "    </tr>\n",
              "    <tr>\n",
              "      <th>25%</th>\n",
              "      <td>2013.000000</td>\n",
              "    </tr>\n",
              "    <tr>\n",
              "      <th>50%</th>\n",
              "      <td>2017.000000</td>\n",
              "    </tr>\n",
              "    <tr>\n",
              "      <th>75%</th>\n",
              "      <td>2019.000000</td>\n",
              "    </tr>\n",
              "    <tr>\n",
              "      <th>max</th>\n",
              "      <td>2021.000000</td>\n",
              "    </tr>\n",
              "  </tbody>\n",
              "</table>\n",
              "</div>\n",
              "    <div class=\"colab-df-buttons\">\n",
              "\n",
              "  <div class=\"colab-df-container\">\n",
              "    <button class=\"colab-df-convert\" onclick=\"convertToInteractive('df-f8bb7bd0-7dab-418c-b6c6-ea8ebd2f4005')\"\n",
              "            title=\"Convert this dataframe to an interactive table.\"\n",
              "            style=\"display:none;\">\n",
              "\n",
              "  <svg xmlns=\"http://www.w3.org/2000/svg\" height=\"24px\" viewBox=\"0 -960 960 960\">\n",
              "    <path d=\"M120-120v-720h720v720H120Zm60-500h600v-160H180v160Zm220 220h160v-160H400v160Zm0 220h160v-160H400v160ZM180-400h160v-160H180v160Zm440 0h160v-160H620v160ZM180-180h160v-160H180v160Zm440 0h160v-160H620v160Z\"/>\n",
              "  </svg>\n",
              "    </button>\n",
              "\n",
              "  <style>\n",
              "    .colab-df-container {\n",
              "      display:flex;\n",
              "      gap: 12px;\n",
              "    }\n",
              "\n",
              "    .colab-df-convert {\n",
              "      background-color: #E8F0FE;\n",
              "      border: none;\n",
              "      border-radius: 50%;\n",
              "      cursor: pointer;\n",
              "      display: none;\n",
              "      fill: #1967D2;\n",
              "      height: 32px;\n",
              "      padding: 0 0 0 0;\n",
              "      width: 32px;\n",
              "    }\n",
              "\n",
              "    .colab-df-convert:hover {\n",
              "      background-color: #E2EBFA;\n",
              "      box-shadow: 0px 1px 2px rgba(60, 64, 67, 0.3), 0px 1px 3px 1px rgba(60, 64, 67, 0.15);\n",
              "      fill: #174EA6;\n",
              "    }\n",
              "\n",
              "    .colab-df-buttons div {\n",
              "      margin-bottom: 4px;\n",
              "    }\n",
              "\n",
              "    [theme=dark] .colab-df-convert {\n",
              "      background-color: #3B4455;\n",
              "      fill: #D2E3FC;\n",
              "    }\n",
              "\n",
              "    [theme=dark] .colab-df-convert:hover {\n",
              "      background-color: #434B5C;\n",
              "      box-shadow: 0px 1px 3px 1px rgba(0, 0, 0, 0.15);\n",
              "      filter: drop-shadow(0px 1px 2px rgba(0, 0, 0, 0.3));\n",
              "      fill: #FFFFFF;\n",
              "    }\n",
              "  </style>\n",
              "\n",
              "    <script>\n",
              "      const buttonEl =\n",
              "        document.querySelector('#df-f8bb7bd0-7dab-418c-b6c6-ea8ebd2f4005 button.colab-df-convert');\n",
              "      buttonEl.style.display =\n",
              "        google.colab.kernel.accessAllowed ? 'block' : 'none';\n",
              "\n",
              "      async function convertToInteractive(key) {\n",
              "        const element = document.querySelector('#df-f8bb7bd0-7dab-418c-b6c6-ea8ebd2f4005');\n",
              "        const dataTable =\n",
              "          await google.colab.kernel.invokeFunction('convertToInteractive',\n",
              "                                                    [key], {});\n",
              "        if (!dataTable) return;\n",
              "\n",
              "        const docLinkHtml = 'Like what you see? Visit the ' +\n",
              "          '<a target=\"_blank\" href=https://colab.research.google.com/notebooks/data_table.ipynb>data table notebook</a>'\n",
              "          + ' to learn more about interactive tables.';\n",
              "        element.innerHTML = '';\n",
              "        dataTable['output_type'] = 'display_data';\n",
              "        await google.colab.output.renderOutput(dataTable, element);\n",
              "        const docLink = document.createElement('div');\n",
              "        docLink.innerHTML = docLinkHtml;\n",
              "        element.appendChild(docLink);\n",
              "      }\n",
              "    </script>\n",
              "  </div>\n",
              "\n",
              "\n",
              "<div id=\"df-d836f6f9-5dfb-4a2d-a4b8-28350a2080a1\">\n",
              "  <button class=\"colab-df-quickchart\" onclick=\"quickchart('df-d836f6f9-5dfb-4a2d-a4b8-28350a2080a1')\"\n",
              "            title=\"Suggest charts\"\n",
              "            style=\"display:none;\">\n",
              "\n",
              "<svg xmlns=\"http://www.w3.org/2000/svg\" height=\"24px\"viewBox=\"0 0 24 24\"\n",
              "     width=\"24px\">\n",
              "    <g>\n",
              "        <path d=\"M19 3H5c-1.1 0-2 .9-2 2v14c0 1.1.9 2 2 2h14c1.1 0 2-.9 2-2V5c0-1.1-.9-2-2-2zM9 17H7v-7h2v7zm4 0h-2V7h2v10zm4 0h-2v-4h2v4z\"/>\n",
              "    </g>\n",
              "</svg>\n",
              "  </button>\n",
              "\n",
              "<style>\n",
              "  .colab-df-quickchart {\n",
              "      --bg-color: #E8F0FE;\n",
              "      --fill-color: #1967D2;\n",
              "      --hover-bg-color: #E2EBFA;\n",
              "      --hover-fill-color: #174EA6;\n",
              "      --disabled-fill-color: #AAA;\n",
              "      --disabled-bg-color: #DDD;\n",
              "  }\n",
              "\n",
              "  [theme=dark] .colab-df-quickchart {\n",
              "      --bg-color: #3B4455;\n",
              "      --fill-color: #D2E3FC;\n",
              "      --hover-bg-color: #434B5C;\n",
              "      --hover-fill-color: #FFFFFF;\n",
              "      --disabled-bg-color: #3B4455;\n",
              "      --disabled-fill-color: #666;\n",
              "  }\n",
              "\n",
              "  .colab-df-quickchart {\n",
              "    background-color: var(--bg-color);\n",
              "    border: none;\n",
              "    border-radius: 50%;\n",
              "    cursor: pointer;\n",
              "    display: none;\n",
              "    fill: var(--fill-color);\n",
              "    height: 32px;\n",
              "    padding: 0;\n",
              "    width: 32px;\n",
              "  }\n",
              "\n",
              "  .colab-df-quickchart:hover {\n",
              "    background-color: var(--hover-bg-color);\n",
              "    box-shadow: 0 1px 2px rgba(60, 64, 67, 0.3), 0 1px 3px 1px rgba(60, 64, 67, 0.15);\n",
              "    fill: var(--button-hover-fill-color);\n",
              "  }\n",
              "\n",
              "  .colab-df-quickchart-complete:disabled,\n",
              "  .colab-df-quickchart-complete:disabled:hover {\n",
              "    background-color: var(--disabled-bg-color);\n",
              "    fill: var(--disabled-fill-color);\n",
              "    box-shadow: none;\n",
              "  }\n",
              "\n",
              "  .colab-df-spinner {\n",
              "    border: 2px solid var(--fill-color);\n",
              "    border-color: transparent;\n",
              "    border-bottom-color: var(--fill-color);\n",
              "    animation:\n",
              "      spin 1s steps(1) infinite;\n",
              "  }\n",
              "\n",
              "  @keyframes spin {\n",
              "    0% {\n",
              "      border-color: transparent;\n",
              "      border-bottom-color: var(--fill-color);\n",
              "      border-left-color: var(--fill-color);\n",
              "    }\n",
              "    20% {\n",
              "      border-color: transparent;\n",
              "      border-left-color: var(--fill-color);\n",
              "      border-top-color: var(--fill-color);\n",
              "    }\n",
              "    30% {\n",
              "      border-color: transparent;\n",
              "      border-left-color: var(--fill-color);\n",
              "      border-top-color: var(--fill-color);\n",
              "      border-right-color: var(--fill-color);\n",
              "    }\n",
              "    40% {\n",
              "      border-color: transparent;\n",
              "      border-right-color: var(--fill-color);\n",
              "      border-top-color: var(--fill-color);\n",
              "    }\n",
              "    60% {\n",
              "      border-color: transparent;\n",
              "      border-right-color: var(--fill-color);\n",
              "    }\n",
              "    80% {\n",
              "      border-color: transparent;\n",
              "      border-right-color: var(--fill-color);\n",
              "      border-bottom-color: var(--fill-color);\n",
              "    }\n",
              "    90% {\n",
              "      border-color: transparent;\n",
              "      border-bottom-color: var(--fill-color);\n",
              "    }\n",
              "  }\n",
              "</style>\n",
              "\n",
              "  <script>\n",
              "    async function quickchart(key) {\n",
              "      const quickchartButtonEl =\n",
              "        document.querySelector('#' + key + ' button');\n",
              "      quickchartButtonEl.disabled = true;  // To prevent multiple clicks.\n",
              "      quickchartButtonEl.classList.add('colab-df-spinner');\n",
              "      try {\n",
              "        const charts = await google.colab.kernel.invokeFunction(\n",
              "            'suggestCharts', [key], {});\n",
              "      } catch (error) {\n",
              "        console.error('Error during call to suggestCharts:', error);\n",
              "      }\n",
              "      quickchartButtonEl.classList.remove('colab-df-spinner');\n",
              "      quickchartButtonEl.classList.add('colab-df-quickchart-complete');\n",
              "    }\n",
              "    (() => {\n",
              "      let quickchartButtonEl =\n",
              "        document.querySelector('#df-d836f6f9-5dfb-4a2d-a4b8-28350a2080a1 button');\n",
              "      quickchartButtonEl.style.display =\n",
              "        google.colab.kernel.accessAllowed ? 'block' : 'none';\n",
              "    })();\n",
              "  </script>\n",
              "</div>\n",
              "\n",
              "    </div>\n",
              "  </div>\n"
            ]
          },
          "metadata": {},
          "execution_count": 8
        }
      ]
    },
    {
      "cell_type": "markdown",
      "source": [
        "Printing the Unique values in each column"
      ],
      "metadata": {
        "id": "ZM7IWIREwZjP"
      }
    },
    {
      "cell_type": "code",
      "source": [
        "for column in df.select_dtypes(include=['object']).columns:\n",
        "    print(f\"\\nUnique values in {column}:\\n\", df[column].unique())"
      ],
      "metadata": {
        "colab": {
          "base_uri": "https://localhost:8080/"
        },
        "id": "Z6e2IvJho7Nt",
        "outputId": "3350c021-a043-4ce0-9767-0d13d39b1421"
      },
      "execution_count": 9,
      "outputs": [
        {
          "output_type": "stream",
          "name": "stdout",
          "text": [
            "\n",
            "Unique values in show_id:\n",
            " ['s1' 's3' 's6' ... 's8801' 's8784' 's8786']\n",
            "\n",
            "Unique values in type:\n",
            " ['Movie' 'TV Show']\n",
            "\n",
            "Unique values in title:\n",
            " ['Dick Johnson Is Dead' 'Ganglands' 'Midnight Mass' ...\n",
            " 'Zindagi Gulzar Hai' 'Yoko' 'YOM']\n",
            "\n",
            "Unique values in director:\n",
            " ['Kirsten Johnson' 'Julien Leclercq' 'Mike Flanagan' ... 'Majid Al Ansari'\n",
            " 'Peter Hewitt' 'Mozez Singh']\n",
            "\n",
            "Unique values in country:\n",
            " ['United States' 'France' 'Brazil' 'United Kingdom' 'India' 'Germany'\n",
            " 'Pakistan' 'Not Given' 'China' 'South Africa' 'Japan' 'Nigeria' 'Spain'\n",
            " 'Philippines' 'Australia' 'Argentina' 'Canada' 'Hong Kong' 'Italy'\n",
            " 'New Zealand' 'Egypt' 'Colombia' 'Mexico' 'Belgium' 'Switzerland'\n",
            " 'Taiwan' 'Bulgaria' 'Poland' 'South Korea' 'Saudi Arabia' 'Thailand'\n",
            " 'Indonesia' 'Kuwait' 'Malaysia' 'Vietnam' 'Lebanon' 'Romania' 'Syria'\n",
            " 'United Arab Emirates' 'Sweden' 'Mauritius' 'Austria' 'Turkey'\n",
            " 'Czech Republic' 'Cameroon' 'Netherlands' 'Ireland' 'Russia' 'Kenya'\n",
            " 'Chile' 'Uruguay' 'Bangladesh' 'Portugal' 'Hungary' 'Norway' 'Singapore'\n",
            " 'Iceland' 'Serbia' 'Namibia' 'Peru' 'Mozambique' 'Ghana' 'Zimbabwe'\n",
            " 'Israel' 'Finland' 'Denmark' 'Paraguay' 'Cambodia' 'Georgia'\n",
            " 'Soviet Union' 'Greece' 'West Germany' 'Iran' 'Venezuela' 'Slovenia'\n",
            " 'Guatemala' 'Jamaica' 'Somalia' 'Croatia' 'Jordan' 'Luxembourg' 'Senegal'\n",
            " 'Belarus' 'Puerto Rico' 'Cyprus' 'Ukraine']\n",
            "\n",
            "Unique values in date_added:\n",
            " ['9/25/2021' '9/24/2021' '9/22/2021' ... '5/22/2016' '9/11/2019'\n",
            " '4/1/2014']\n",
            "\n",
            "Unique values in rating:\n",
            " ['PG-13' 'TV-MA' 'TV-PG' 'TV-14' 'TV-Y7' 'TV-Y' 'PG' 'TV-G' 'R' 'G'\n",
            " 'NC-17' 'NR' 'TV-Y7-FV' 'UR']\n",
            "\n",
            "Unique values in duration:\n",
            " ['90 min' '1 Season' '91 min' '125 min' '9 Seasons' '104 min' '87 min'\n",
            " '127 min' '76 min' '71 min' '131 min' '39 min' '36 min' '34 min' '35 min'\n",
            " '46 min' '67 min' '65 min' '61 min' '166 min' '103 min' '97 min'\n",
            " '106 min' '2 Seasons' '4 Seasons' '147 min' '94 min' '161 min' '111 min'\n",
            " '110 min' '105 min' '96 min' '124 min' '116 min' '98 min' '115 min'\n",
            " '122 min' '55 min' '99 min' '88 min' '100 min' '6 Seasons' '3 Seasons'\n",
            " '23 min' '102 min' '93 min' '95 min' '85 min' '83 min' '182 min'\n",
            " '5 Seasons' '92 min' '84 min' '48 min' '145 min' '119 min' '80 min'\n",
            " '128 min' '143 min' '273 min' '117 min' '114 min' '118 min' '108 min'\n",
            " '37 min' '121 min' '63 min' '142 min' '113 min' '154 min' '120 min'\n",
            " '82 min' '109 min' '101 min' '86 min' '77 min' '229 min' '15 min'\n",
            " '89 min' '156 min' '112 min' '107 min' '129 min' '44 min' '68 min'\n",
            " '135 min' '136 min' '165 min' '150 min' '133 min' '47 min' '70 min'\n",
            " '56 min' '58 min' '78 min' '140 min' '64 min' '59 min' '60 min' '69 min'\n",
            " '19 min' '22 min' '148 min' '189 min' '54 min' '141 min' '130 min'\n",
            " '81 min' '7 Seasons' '138 min' '132 min' '8 Seasons' '123 min' '66 min'\n",
            " '62 min' '74 min' '38 min' '13 min' '139 min' '126 min' '155 min'\n",
            " '159 min' '12 min' '137 min' '49 min' '72 min' '204 min' '25 min'\n",
            " '212 min' '73 min' '149 min' '224 min' '162 min' '75 min' '79 min'\n",
            " '32 min' '158 min' '164 min' '173 min' '181 min' '185 min' '21 min'\n",
            " '24 min' '51 min' '151 min' '42 min' '134 min' '177 min' '52 min'\n",
            " '53 min' '8 min' '57 min' '28 min' '50 min' '9 min' '26 min' '45 min'\n",
            " '171 min' '27 min' '33 min' '29 min' '146 min' '20 min' '157 min'\n",
            " '203 min' '41 min' '30 min' '17 min' '194 min' '15 Seasons' '233 min'\n",
            " '230 min' '237 min' '195 min' '253 min' '152 min' '190 min' '160 min'\n",
            " '208 min' '180 min' '144 min' '5 min' '174 min' '170 min' '192 min'\n",
            " '209 min' '187 min' '172 min' '16 min' '186 min' '11 min' '193 min'\n",
            " '176 min' '169 min' '40 min' '3 min' '168 min' '153 min' '214 min'\n",
            " '31 min' '163 min' '14 min' '179 min' '43 min' '200 min' '196 min'\n",
            " '167 min' '178 min' '228 min' '18 min' '205 min' '201 min' '191 min'\n",
            " '10 Seasons' '17 Seasons' '13 Seasons' '10 min' '312 min' '12 Seasons'\n",
            " '11 Seasons']\n",
            "\n",
            "Unique values in listed_in:\n",
            " ['Documentaries'\n",
            " 'Crime TV Shows, International TV Shows, TV Action & Adventure'\n",
            " 'TV Dramas, TV Horror, TV Mysteries' 'Children & Family Movies, Comedies'\n",
            " 'Dramas, Independent Movies, International Movies'\n",
            " 'British TV Shows, Reality TV' 'Comedies, Dramas'\n",
            " 'Children & Family Movies, Comedies, Music & Musicals'\n",
            " 'Dramas, International Movies'\n",
            " 'Children & Family Movies, Music & Musicals'\n",
            " 'Dramas, International Movies, Music & Musicals' 'Movies' 'Comedies'\n",
            " 'Docuseries, Reality TV' 'British TV Shows, Crime TV Shows, Docuseries'\n",
            " 'Children & Family Movies' \"Kids' TV\"\n",
            " 'Documentaries, International Movies'\n",
            " 'Crime TV Shows, Docuseries, International TV Shows'\n",
            " 'Comedies, International Movies, Romantic Movies'\n",
            " 'Horror Movies, Sci-Fi & Fantasy' 'Thrillers'\n",
            " 'International TV Shows, Spanish-Language TV Shows, TV Action & Adventure'\n",
            " 'TV Comedies' 'International TV Shows, TV Dramas, TV Thrillers'\n",
            " 'Reality TV' \"Anime Series, Kids' TV\" \"Kids' TV, Korean TV Shows\"\n",
            " 'International TV Shows, Romantic TV Shows, TV Comedies'\n",
            " 'International TV Shows, TV Action & Adventure, TV Comedies'\n",
            " 'Crime TV Shows, International TV Shows, Spanish-Language TV Shows'\n",
            " \"Kids' TV, TV Comedies\" 'Docuseries'\n",
            " 'International TV Shows, TV Comedies'\n",
            " 'Comedies, International Movies, Music & Musicals'\n",
            " 'Comedies, International Movies'\n",
            " 'Dramas, International Movies, Thrillers'\n",
            " 'Action & Adventure, Dramas, International Movies'\n",
            " 'Action & Adventure, Dramas' 'Action & Adventure, Classic Movies, Dramas'\n",
            " 'Dramas, Horror Movies, Thrillers'\n",
            " 'Action & Adventure, Horror Movies, Thrillers' 'Action & Adventure'\n",
            " 'Dramas, Thrillers' 'Documentaries, Music & Musicals'\n",
            " 'International TV Shows, Spanish-Language TV Shows, TV Dramas'\n",
            " 'Action & Adventure, Anime Features, International Movies'\n",
            " 'Docuseries, International TV Shows' 'Reality TV, Teen TV Shows'\n",
            " 'International TV Shows, Reality TV'\n",
            " 'International TV Shows, TV Dramas, TV Mysteries'\n",
            " 'International TV Shows, TV Comedies, TV Dramas'\n",
            " 'International TV Shows, Spanish-Language TV Shows, TV Comedies'\n",
            " 'TV Comedies, TV Dramas'\n",
            " 'Crime TV Shows, International TV Shows, TV Dramas'\n",
            " 'TV Dramas, Teen TV Shows' 'Anime Series'\n",
            " 'Action & Adventure, Comedies, Dramas' 'International Movies, Thrillers'\n",
            " 'Anime Series, Stand-Up Comedy & Talk Shows'\n",
            " 'Sci-Fi & Fantasy, Thrillers'\n",
            " 'British TV Shows, International TV Shows, Reality TV'\n",
            " 'International TV Shows, Reality TV, Romantic TV Shows'\n",
            " 'Crime TV Shows, International TV Shows, Romantic TV Shows'\n",
            " 'International TV Shows, Romantic TV Shows, Spanish-Language TV Shows'\n",
            " 'Anime Series, International TV Shows' 'Documentaries, Sports Movies'\n",
            " 'Comedies, Dramas, International Movies'\n",
            " 'Dramas, International Movies, Romantic Movies' 'Dramas'\n",
            " 'Comedies, Romantic Movies'\n",
            " 'International TV Shows, Romantic TV Shows, TV Dramas'\n",
            " 'Docuseries, Science & Nature TV' 'International TV Shows, TV Dramas'\n",
            " 'Children & Family Movies, Dramas'\n",
            " 'Crime TV Shows, International TV Shows, TV Thrillers'\n",
            " 'Anime Features, Documentaries' 'International Movies, Music & Musicals'\n",
            " 'Docuseries, International TV Shows, Spanish-Language TV Shows'\n",
            " 'Dramas, Romantic Movies' 'Comedies, Dramas, Independent Movies'\n",
            " 'Action & Adventure, Classic Movies, Cult Movies'\n",
            " 'Action & Adventure, Sci-Fi & Fantasy' 'Reality TV, Romantic TV Shows'\n",
            " 'Crime TV Shows, Docuseries, TV Mysteries'\n",
            " \"Anime Series, Kids' TV, TV Action & Adventure\"\n",
            " 'Action & Adventure, Comedies' 'Classic Movies, Comedies, Dramas'\n",
            " 'Comedies, Cult Movies' 'Comedies, Cult Movies, Music & Musicals'\n",
            " 'Comedies, Music & Musicals' 'Action & Adventure, International Movies'\n",
            " 'Action & Adventure, Children & Family Movies, Cult Movies'\n",
            " 'Comedies, Dramas, Romantic Movies'\n",
            " 'Comedies, Cult Movies, Sci-Fi & Fantasy' 'Stand-Up Comedy'\n",
            " 'Classic Movies, Dramas'\n",
            " 'Action & Adventure, Children & Family Movies, Comedies'\n",
            " 'Crime TV Shows, TV Dramas, TV Mysteries' 'Dramas, Faith & Spirituality'\n",
            " 'Documentaries, LGBTQ Movies' 'Action & Adventure, Classic Movies'\n",
            " 'Documentaries, International Movies, Music & Musicals'\n",
            " 'Docuseries, TV Sci-Fi & Fantasy' 'Docuseries, Spanish-Language TV Shows'\n",
            " 'Dramas, Independent Movies'\n",
            " 'Action & Adventure, Comedies, International Movies'\n",
            " 'Action & Adventure, Horror Movies, International Movies'\n",
            " 'Comedies, International Movies, Sci-Fi & Fantasy'\n",
            " 'Action & Adventure, International Movies, Music & Musicals'\n",
            " 'Horror Movies, International Movies'\n",
            " 'International TV Shows, Korean TV Shows, Reality TV'\n",
            " 'Dramas, Independent Movies, Romantic Movies'\n",
            " 'International TV Shows, Korean TV Shows, Romantic TV Shows'\n",
            " 'Stand-Up Comedy & Talk Shows, TV Comedies'\n",
            " \"Kids' TV, Korean TV Shows, TV Comedies\"\n",
            " 'International TV Shows, Romantic TV Shows, TV Action & Adventure'\n",
            " 'Crime TV Shows, Docuseries' 'Horror Movies'\n",
            " 'Documentaries, LGBTQ Movies, Sports Movies'\n",
            " 'Action & Adventure, Anime Features'\n",
            " 'British TV Shows, Crime TV Shows, International TV Shows'\n",
            " 'Anime Series, Crime TV Shows, International TV Shows'\n",
            " 'International TV Shows, TV Action & Adventure, TV Sci-Fi & Fantasy'\n",
            " 'Horror Movies, International Movies, Thrillers'\n",
            " 'Comedies, Independent Movies'\n",
            " 'Classic Movies, Dramas, Independent Movies'\n",
            " 'Documentaries, International Movies, Sports Movies'\n",
            " 'International TV Shows, TV Dramas, TV Sci-Fi & Fantasy'\n",
            " 'Action & Adventure, Anime Features, Children & Family Movies'\n",
            " 'Docuseries, TV Comedies' 'TV Shows'\n",
            " 'Horror Movies, Independent Movies, International Movies'\n",
            " 'Comedies, Cult Movies, International Movies'\n",
            " 'Classic Movies, Dramas, International Movies'\n",
            " 'Docuseries, Stand-Up Comedy & Talk Shows' \"Crime TV Shows, Kids' TV\"\n",
            " 'Anime Series, International TV Shows, Romantic TV Shows'\n",
            " 'Reality TV, Science & Nature TV, TV Action & Adventure'\n",
            " \"Docuseries, Kids' TV, Science & Nature TV\"\n",
            " 'International TV Shows, Stand-Up Comedy & Talk Shows'\n",
            " 'International TV Shows, TV Dramas, TV Horror'\n",
            " 'International TV Shows, Korean TV Shows, TV Comedies'\n",
            " 'International TV Shows, Stand-Up Comedy & Talk Shows, TV Comedies'\n",
            " 'Children & Family Movies, Comedies, Sci-Fi & Fantasy'\n",
            " 'Action & Adventure, Horror Movies, Sci-Fi & Fantasy'\n",
            " 'Classic Movies, Comedies, Cult Movies'\n",
            " 'Action & Adventure, Sci-Fi & Fantasy, Thrillers'\n",
            " 'Children & Family Movies, Comedies, Dramas' 'Dramas, Sports Movies'\n",
            " 'Action & Adventure, Dramas, Sci-Fi & Fantasy'\n",
            " 'Action & Adventure, Comedies, Cult Movies'\n",
            " 'Dramas, Independent Movies, Thrillers'\n",
            " 'Children & Family Movies, Sports Movies'\n",
            " 'Crime TV Shows, TV Action & Adventure, TV Sci-Fi & Fantasy'\n",
            " 'International TV Shows'\n",
            " 'Action & Adventure, International Movies, Thrillers'\n",
            " 'British TV Shows, Docuseries, Science & Nature TV'\n",
            " 'Crime TV Shows, Spanish-Language TV Shows, TV Dramas'\n",
            " 'Anime Features, Children & Family Movies, International Movies'\n",
            " 'Action & Adventure, Dramas, Romantic Movies'\n",
            " 'International TV Shows, Reality TV, TV Action & Adventure'\n",
            " 'Horror Movies, LGBTQ Movies'\n",
            " 'Children & Family Movies, Comedies, Sports Movies'\n",
            " 'International Movies, Romantic Movies'\n",
            " 'Children & Family Movies, Dramas, International Movies'\n",
            " 'Comedies, Documentaries, International Movies'\n",
            " 'International Movies, Romantic Movies, Thrillers'\n",
            " 'Action & Adventure, Cult Movies, International Movies'\n",
            " 'Action & Adventure, Comedies, Sci-Fi & Fantasy'\n",
            " 'Action & Adventure, Thrillers'\n",
            " 'Dramas, Faith & Spirituality, International Movies'\n",
            " 'Action & Adventure, Classic Movies, Comedies'\n",
            " 'Action & Adventure, Comedies, Sports Movies'\n",
            " 'Action & Adventure, Children & Family Movies, Classic Movies'\n",
            " 'Action & Adventure, Children & Family Movies, Dramas'\n",
            " 'Horror Movies, Thrillers' 'Action & Adventure, Romantic Movies'\n",
            " 'Dramas, Romantic Movies, Sci-Fi & Fantasy'\n",
            " 'Dramas, Music & Musicals, Romantic Movies'\n",
            " 'International Movies, Music & Musicals, Romantic Movies'\n",
            " 'British TV Shows, Docuseries'\n",
            " 'Action & Adventure, Anime Features, Classic Movies'\n",
            " 'Anime Series, Crime TV Shows, TV Horror' 'Comedies, Horror Movies'\n",
            " 'Romantic TV Shows, TV Comedies, TV Dramas'\n",
            " 'Dramas, Faith & Spirituality, Romantic Movies'\n",
            " 'Dramas, Independent Movies, LGBTQ Movies'\n",
            " 'Comedies, Independent Movies, LGBTQ Movies'\n",
            " 'Action & Adventure, Cult Movies, Sci-Fi & Fantasy'\n",
            " 'Cult Movies, Horror Movies' 'Action & Adventure, Dramas, Sports Movies'\n",
            " 'Anime Series, Romantic TV Shows, Teen TV Shows'\n",
            " 'Dramas, International Movies, LGBTQ Movies'\n",
            " 'Dramas, Romantic Movies, Thrillers'\n",
            " 'International TV Shows, TV Action & Adventure, TV Dramas'\n",
            " 'Children & Family Movies, Dramas, Faith & Spirituality'\n",
            " 'Dramas, International Movies, Sports Movies'\n",
            " 'Action & Adventure, Horror Movies'\n",
            " 'Documentaries, International Movies, LGBTQ Movies'\n",
            " 'Dramas, Independent Movies, Sci-Fi & Fantasy'\n",
            " 'Comedies, Independent Movies, International Movies' 'TV Dramas'\n",
            " 'International TV Shows, TV Horror, TV Sci-Fi & Fantasy'\n",
            " 'Independent Movies, International Movies, Thrillers'\n",
            " 'Independent Movies, Thrillers' 'Documentaries, Dramas'\n",
            " 'Action & Adventure, Sports Movies'\n",
            " 'Dramas, International Movies, Sci-Fi & Fantasy'\n",
            " 'Comedies, Independent Movies, Romantic Movies'\n",
            " 'Horror Movies, Romantic Movies, Sci-Fi & Fantasy'\n",
            " 'Action & Adventure, Anime Features, Horror Movies'\n",
            " 'Cult Movies, Dramas, Music & Musicals'\n",
            " 'International TV Shows, TV Dramas, Teen TV Shows'\n",
            " 'Comedies, Horror Movies, International Movies'\n",
            " 'Comedies, International Movies, Sports Movies'\n",
            " 'Classic Movies, Music & Musicals'\n",
            " 'International TV Shows, Reality TV, Spanish-Language TV Shows'\n",
            " 'Children & Family Movies, Faith & Spirituality, Music & Musicals'\n",
            " 'International TV Shows, Korean TV Shows, Stand-Up Comedy & Talk Shows'\n",
            " 'Dramas, Music & Musicals' 'Horror Movies, Independent Movies'\n",
            " 'Comedies, Dramas, Music & Musicals'\n",
            " 'Classic & Cult TV, Crime TV Shows, International TV Shows'\n",
            " 'Comedies, LGBTQ Movies, Thrillers'\n",
            " 'Children & Family Movies, Sci-Fi & Fantasy'\n",
            " 'Comedies, International Movies, LGBTQ Movies' 'Dramas, Sci-Fi & Fantasy'\n",
            " 'British TV Shows, Romantic TV Shows, TV Dramas'\n",
            " 'Anime Series, International TV Shows, Spanish-Language TV Shows'\n",
            " 'Comedies, Romantic Movies, Sports Movies'\n",
            " 'Children & Family Movies, Dramas, Sports Movies'\n",
            " 'Action & Adventure, Dramas, Independent Movies' 'Dramas, LGBTQ Movies'\n",
            " 'Action & Adventure, Dramas, Faith & Spirituality'\n",
            " 'Action & Adventure, Comedies, Independent Movies' 'Music & Musicals'\n",
            " 'Dramas, Independent Movies, Sports Movies'\n",
            " 'Comedies, LGBTQ Movies, Music & Musicals'\n",
            " 'Comedies, International Movies, Thrillers'\n",
            " 'Children & Family Movies, Documentaries'\n",
            " 'Music & Musicals, Romantic Movies' 'Romantic Movies'\n",
            " 'Children & Family Movies, Classic Movies, Comedies'\n",
            " 'Dramas, LGBTQ Movies, Romantic Movies'\n",
            " 'Children & Family Movies, Comedies, Romantic Movies'\n",
            " 'Comedies, Sports Movies' 'International Movies'\n",
            " 'International TV Shows, Romantic TV Shows, TV Mysteries'\n",
            " 'Action & Adventure, International Movies, Romantic Movies'\n",
            " 'Cult Movies, Dramas, International Movies'\n",
            " 'Action & Adventure, Sci-Fi & Fantasy, Sports Movies'\n",
            " 'British TV Shows, International TV Shows, TV Dramas'\n",
            " 'Children & Family Movies, Documentaries, International Movies'\n",
            " 'Anime Features, International Movies'\n",
            " \"British TV Shows, Classic & Cult TV, Kids' TV\"\n",
            " 'International TV Shows, TV Horror, TV Mysteries'\n",
            " 'Documentaries, Faith & Spirituality, International Movies'\n",
            " 'LGBTQ Movies, Thrillers'\n",
            " 'Children & Family Movies, Dramas, Independent Movies'\n",
            " 'Comedies, Music & Musicals, Romantic Movies'\n",
            " 'Anime Features, Children & Family Movies'\n",
            " 'TV Action & Adventure, TV Sci-Fi & Fantasy'\n",
            " 'Action & Adventure, International Movies, Sci-Fi & Fantasy'\n",
            " 'Classic & Cult TV, TV Action & Adventure, TV Horror'\n",
            " 'International TV Shows, Korean TV Shows, TV Dramas'\n",
            " 'Action & Adventure, Comedies, Romantic Movies'\n",
            " 'Children & Family Movies, Comedies, International Movies'\n",
            " 'International Movies, Sci-Fi & Fantasy'\n",
            " 'International Movies, Sci-Fi & Fantasy, Thrillers'\n",
            " 'Children & Family Movies, Dramas, Romantic Movies'\n",
            " 'Comedies, Dramas, LGBTQ Movies'\n",
            " 'Children & Family Movies, Dramas, Music & Musicals'\n",
            " 'Action & Adventure, Independent Movies, International Movies'\n",
            " 'Action & Adventure, Children & Family Movies, Sci-Fi & Fantasy'\n",
            " 'Horror Movies, Independent Movies, Sci-Fi & Fantasy'\n",
            " 'Anime Features, International Movies, Sci-Fi & Fantasy'\n",
            " 'Dramas, Independent Movies, Music & Musicals'\n",
            " 'Children & Family Movies, Documentaries, Sports Movies'\n",
            " 'Independent Movies, Sci-Fi & Fantasy, Thrillers'\n",
            " 'Anime Features, Music & Musicals, Sci-Fi & Fantasy'\n",
            " 'International TV Shows, Korean TV Shows, TV Action & Adventure'\n",
            " 'Crime TV Shows, TV Action & Adventure'\n",
            " 'Comedies, Faith & Spirituality, Romantic Movies'\n",
            " \"Kids' TV, TV Action & Adventure\"\n",
            " 'Action & Adventure, Independent Movies'\n",
            " 'Crime TV Shows, Romantic TV Shows, TV Dramas'\n",
            " 'Anime Features, Romantic Movies'\n",
            " 'Horror Movies, Sci-Fi & Fantasy, Thrillers'\n",
            " 'International TV Shows, Spanish-Language TV Shows, Stand-Up Comedy & Talk Shows'\n",
            " 'Anime Features, Music & Musicals'\n",
            " 'Anime Features, International Movies, Romantic Movies'\n",
            " 'Horror Movies, Independent Movies, Thrillers'\n",
            " 'Documentaries, Stand-Up Comedy'\n",
            " 'Crime TV Shows, TV Action & Adventure, TV Dramas'\n",
            " 'Dramas, Sci-Fi & Fantasy, Thrillers'\n",
            " 'Children & Family Movies, Comedies, LGBTQ Movies'\n",
            " 'Horror Movies, International Movies, Romantic Movies'\n",
            " 'International Movies, Music & Musicals, Thrillers'\n",
            " 'Comedies, Horror Movies, Independent Movies'\n",
            " 'Action & Adventure, International Movies, Sports Movies'\n",
            " 'Comedies, Music & Musicals, Sports Movies'\n",
            " 'Action & Adventure, Independent Movies, Sci-Fi & Fantasy'\n",
            " 'Horror Movies, LGBTQ Movies, Music & Musicals'\n",
            " 'Romantic TV Shows, TV Comedies'\n",
            " 'International Movies, Romantic Movies, Sci-Fi & Fantasy'\n",
            " 'Music & Musicals, Stand-Up Comedy'\n",
            " 'British TV Shows, International TV Shows, TV Action & Adventure'\n",
            " 'Horror Movies, International Movies, Sci-Fi & Fantasy'\n",
            " 'Cult Movies, Horror Movies, Independent Movies'\n",
            " 'Comedies, Documentaries'\n",
            " 'Action & Adventure, Anime Features, Sci-Fi & Fantasy'\n",
            " 'Dramas, Faith & Spirituality, Independent Movies'\n",
            " 'Documentaries, Faith & Spirituality'\n",
            " 'British TV Shows, International TV Shows, Stand-Up Comedy & Talk Shows'\n",
            " 'Comedies, Dramas, Faith & Spirituality'\n",
            " 'Anime Series, International TV Shows, TV Horror'\n",
            " 'Dramas, Romantic Movies, Sports Movies'\n",
            " 'Comedies, Independent Movies, Music & Musicals'\n",
            " 'Stand-Up Comedy & Talk Shows'\n",
            " 'Crime TV Shows, International TV Shows, Korean TV Shows'\n",
            " 'Comedies, Cult Movies, Independent Movies'\n",
            " 'British TV Shows, TV Comedies'\n",
            " 'Documentaries, Dramas, International Movies'\n",
            " 'Children & Family Movies, Comedies, Cult Movies'\n",
            " 'TV Horror, TV Mysteries, TV Thrillers' 'Sci-Fi & Fantasy'\n",
            " 'Comedies, LGBTQ Movies' 'Comedies, Independent Movies, Thrillers'\n",
            " 'Classic Movies, Cult Movies, Dramas'\n",
            " 'Action & Adventure, Children & Family Movies, Independent Movies'\n",
            " 'Action & Adventure, Documentaries, International Movies'\n",
            " 'British TV Shows, Reality TV, Romantic TV Shows'\n",
            " 'Children & Family Movies, Independent Movies'\n",
            " 'Comedies, Cult Movies, Dramas' 'Classic Movies, Thrillers'\n",
            " 'Documentaries, LGBTQ Movies, Music & Musicals'\n",
            " 'Classic Movies, Dramas, Romantic Movies'\n",
            " 'Crime TV Shows, Romantic TV Shows, Spanish-Language TV Shows'\n",
            " 'Classic Movies, Cult Movies, Horror Movies'\n",
            " 'Children & Family Movies, Classic Movies'\n",
            " 'Classic Movies, Comedies, International Movies'\n",
            " 'Comedies, Sci-Fi & Fantasy' 'Action & Adventure, Cult Movies, Dramas'\n",
            " 'Documentaries, Faith & Spirituality, Music & Musicals'\n",
            " 'International Movies, Sports Movies'\n",
            " 'Children & Family Movies, Comedies, Faith & Spirituality'\n",
            " 'British TV Shows, Crime TV Shows, TV Dramas'\n",
            " 'Classic Movies, Dramas, Music & Musicals'\n",
            " 'Cult Movies, Horror Movies, Thrillers'\n",
            " 'Action & Adventure, Classic Movies, Sci-Fi & Fantasy'\n",
            " 'British TV Shows, Docuseries, International TV Shows'\n",
            " 'Classic Movies, Comedies, Music & Musicals' 'Independent Movies'\n",
            " 'Documentaries, Horror Movies'\n",
            " 'Comedies, Faith & Spirituality, International Movies'\n",
            " 'Dramas, Horror Movies, Sci-Fi & Fantasy'\n",
            " 'British TV Shows, TV Dramas, TV Sci-Fi & Fantasy'\n",
            " 'Comedies, Cult Movies, Horror Movies'\n",
            " 'Comedies, Cult Movies, Sports Movies' 'Classic Movies, Documentaries'\n",
            " 'Action & Adventure, Faith & Spirituality, Sci-Fi & Fantasy'\n",
            " 'Docuseries, Science & Nature TV, TV Dramas' 'Anime Features'\n",
            " 'Action & Adventure, Horror Movies, Independent Movies'\n",
            " 'Action & Adventure, Children & Family Movies'\n",
            " 'Action & Adventure, Classic Movies, International Movies'\n",
            " 'Cult Movies, Independent Movies, Thrillers'\n",
            " 'Classic Movies, Cult Movies, Documentaries'\n",
            " 'Classic Movies, Dramas, LGBTQ Movies'\n",
            " 'Classic Movies, Dramas, Sports Movies' 'Action & Adventure, Cult Movies'\n",
            " \"British TV Shows, Kids' TV\"\n",
            " 'Action & Adventure, Comedies, Music & Musicals'\n",
            " 'Classic Movies, Horror Movies, Thrillers'\n",
            " 'Classic Movies, Comedies, Independent Movies'\n",
            " 'Children & Family Movies, Classic Movies, Dramas'\n",
            " 'Dramas, Faith & Spirituality, Sports Movies'\n",
            " 'Classic Movies, Comedies, Romantic Movies'\n",
            " 'Dramas, Horror Movies, Music & Musicals'\n",
            " 'Docuseries, Reality TV, Teen TV Shows'\n",
            " 'Docuseries, International TV Shows, Science & Nature TV'\n",
            " 'Classic Movies, Independent Movies, Thrillers'\n",
            " 'Children & Family Movies, Faith & Spirituality'\n",
            " 'Classic Movies, Comedies, Sports Movies'\n",
            " 'Comedies, Dramas, Sports Movies'\n",
            " 'Action & Adventure, Romantic Movies, Sci-Fi & Fantasy'\n",
            " 'Comedies, Cult Movies, LGBTQ Movies'\n",
            " 'British TV Shows, Classic & Cult TV, TV Comedies'\n",
            " 'Comedies, Horror Movies, Sci-Fi & Fantasy'\n",
            " 'Action & Adventure, Comedies, Horror Movies'\n",
            " 'Action & Adventure, Documentaries, Sports Movies'\n",
            " 'International Movies, LGBTQ Movies, Romantic Movies'\n",
            " 'Cult Movies, Dramas, Thrillers'\n",
            " 'Docuseries, International TV Shows, Reality TV'\n",
            " 'British TV Shows, International TV Shows, TV Comedies'\n",
            " \"Kids' TV, TV Sci-Fi & Fantasy\" 'Crime TV Shows, TV Comedies, TV Dramas'\n",
            " \"Kids' TV, TV Comedies, TV Sci-Fi & Fantasy\"\n",
            " \"Kids' TV, TV Dramas, Teen TV Shows\"\n",
            " 'Crime TV Shows, TV Action & Adventure, TV Comedies'\n",
            " 'Anime Series, International TV Shows, Teen TV Shows'\n",
            " 'TV Dramas, TV Mysteries, TV Sci-Fi & Fantasy'\n",
            " 'TV Action & Adventure, TV Dramas, TV Mysteries'\n",
            " 'TV Dramas, TV Sci-Fi & Fantasy'\n",
            " 'TV Action & Adventure, TV Dramas, Teen TV Shows'\n",
            " 'Crime TV Shows, International TV Shows, TV Comedies'\n",
            " 'Classic & Cult TV, TV Action & Adventure, TV Dramas'\n",
            " 'Anime Series, International TV Shows, TV Thrillers'\n",
            " 'TV Comedies, TV Dramas, Teen TV Shows' 'Romantic TV Shows, TV Dramas'\n",
            " 'Anime Series, TV Horror, TV Thrillers'\n",
            " 'TV Action & Adventure, TV Dramas, TV Sci-Fi & Fantasy'\n",
            " 'Crime TV Shows, TV Horror, TV Mysteries'\n",
            " \"Kids' TV, TV Action & Adventure, TV Sci-Fi & Fantasy\"\n",
            " \"International TV Shows, Kids' TV, TV Mysteries\"\n",
            " 'Reality TV, TV Action & Adventure, TV Mysteries'\n",
            " 'Crime TV Shows, TV Dramas' 'Crime TV Shows, TV Dramas, TV Thrillers'\n",
            " 'TV Action & Adventure, TV Dramas, TV Horror'\n",
            " 'Reality TV, TV Horror, TV Thrillers'\n",
            " 'TV Action & Adventure, TV Horror, TV Sci-Fi & Fantasy'\n",
            " 'TV Dramas, TV Thrillers' 'Reality TV, TV Comedies, TV Horror'\n",
            " 'Docuseries, Science & Nature TV, TV Action & Adventure'\n",
            " \"British TV Shows, Kids' TV, TV Dramas\" 'TV Horror, Teen TV Shows'\n",
            " 'Docuseries, Reality TV, Science & Nature TV'\n",
            " 'Crime TV Shows, Spanish-Language TV Shows, TV Action & Adventure'\n",
            " 'Romantic TV Shows, Teen TV Shows' 'TV Comedies, Teen TV Shows'\n",
            " 'Romantic TV Shows, TV Dramas, Teen TV Shows'\n",
            " 'Romantic TV Shows, TV Action & Adventure, TV Dramas'\n",
            " \"Kids' TV, TV Thrillers\"\n",
            " 'TV Action & Adventure, TV Comedies, TV Sci-Fi & Fantasy'\n",
            " 'TV Action & Adventure, TV Comedies, TV Dramas'\n",
            " 'Spanish-Language TV Shows, TV Dramas'\n",
            " 'TV Horror, TV Mysteries, TV Sci-Fi & Fantasy'\n",
            " 'International TV Shows, TV Mysteries, TV Thrillers'\n",
            " 'British TV Shows, Classic & Cult TV, International TV Shows'\n",
            " \"British TV Shows, Kids' TV, TV Comedies\"\n",
            " 'TV Dramas, TV Mysteries, TV Thrillers'\n",
            " 'International TV Shows, TV Action & Adventure, TV Mysteries'\n",
            " \"Kids' TV, TV Comedies, Teen TV Shows\"\n",
            " 'Classic & Cult TV, TV Action & Adventure, TV Sci-Fi & Fantasy'\n",
            " 'TV Action & Adventure, TV Dramas' 'Reality TV, TV Comedies'\n",
            " \"Kids' TV, TV Dramas\"\n",
            " 'Crime TV Shows, International TV Shows, TV Mysteries'\n",
            " 'TV Dramas, TV Sci-Fi & Fantasy, TV Thrillers'\n",
            " 'Romantic TV Shows, TV Dramas, TV Sci-Fi & Fantasy'\n",
            " \"Kids' TV, Reality TV, TV Dramas\"\n",
            " 'TV Action & Adventure, TV Mysteries, TV Sci-Fi & Fantasy'\n",
            " 'Reality TV, Science & Nature TV'\n",
            " \"Kids' TV, TV Action & Adventure, TV Comedies\"\n",
            " 'Classic & Cult TV, TV Dramas, TV Sci-Fi & Fantasy'\n",
            " 'International TV Shows, TV Action & Adventure, TV Horror'\n",
            " \"Classic & Cult TV, Kids' TV, TV Action & Adventure\"\n",
            " 'International TV Shows, Korean TV Shows, TV Horror'\n",
            " 'Anime Series, Romantic TV Shows'\n",
            " 'Docuseries, Science & Nature TV, TV Comedies'\n",
            " 'TV Dramas, TV Sci-Fi & Fantasy, Teen TV Shows'\n",
            " \"Kids' TV, TV Comedies, TV Dramas\"\n",
            " 'TV Comedies, TV Dramas, TV Sci-Fi & Fantasy'\n",
            " 'International TV Shows, Reality TV, TV Comedies'\n",
            " 'Crime TV Shows, International TV Shows, Reality TV'\n",
            " 'Anime Series, Teen TV Shows'\n",
            " 'International TV Shows, TV Comedies, TV Sci-Fi & Fantasy'\n",
            " 'International TV Shows, Romantic TV Shows'\n",
            " 'International TV Shows, Romantic TV Shows, Teen TV Shows'\n",
            " 'TV Action & Adventure, TV Comedies, TV Horror'\n",
            " \"Kids' TV, Spanish-Language TV Shows\"\n",
            " \"British TV Shows, Kids' TV, TV Thrillers\"\n",
            " \"Kids' TV, TV Action & Adventure, TV Dramas\"\n",
            " 'Anime Series, Crime TV Shows' 'TV Comedies, TV Dramas, TV Horror'\n",
            " 'Docuseries, TV Dramas' 'Crime TV Shows, Docuseries, Science & Nature TV'\n",
            " \"Kids' TV, Spanish-Language TV Shows, Teen TV Shows\"\n",
            " 'TV Horror, TV Mysteries, Teen TV Shows'\n",
            " \"Kids' TV, Reality TV, Science & Nature TV\"\n",
            " 'TV Comedies, TV Horror, TV Thrillers' 'TV Action & Adventure'\n",
            " 'International TV Shows, Spanish-Language TV Shows, TV Horror'\n",
            " 'Crime TV Shows, TV Action & Adventure, TV Thrillers'\n",
            " 'TV Comedies, TV Sci-Fi & Fantasy, Teen TV Shows'\n",
            " 'TV Comedies, TV Sci-Fi & Fantasy'\n",
            " 'Romantic TV Shows, Spanish-Language TV Shows, TV Comedies'\n",
            " 'Crime TV Shows, International TV Shows, TV Sci-Fi & Fantasy'\n",
            " 'British TV Shows, International TV Shows, Romantic TV Shows'\n",
            " 'TV Comedies, TV Mysteries' 'British TV Shows, Docuseries, TV Comedies'\n",
            " 'TV Comedies, TV Dramas, TV Mysteries'\n",
            " 'Crime TV Shows, TV Comedies, Teen TV Shows'\n",
            " 'Reality TV, Spanish-Language TV Shows'\n",
            " \"Crime TV Shows, Kids' TV, TV Comedies\" 'Classic & Cult TV, TV Comedies'\n",
            " 'Stand-Up Comedy & Talk Shows, TV Mysteries, TV Sci-Fi & Fantasy'\n",
            " 'TV Sci-Fi & Fantasy, TV Thrillers'\n",
            " 'British TV Shows, TV Horror, TV Thrillers' 'Sports Movies'\n",
            " 'International TV Shows, TV Horror, TV Thrillers'\n",
            " 'Crime TV Shows, TV Dramas, TV Horror'\n",
            " 'British TV Shows, Docuseries, Reality TV'\n",
            " 'Anime Series, Crime TV Shows, TV Thrillers'\n",
            " \"Classic & Cult TV, Kids' TV, Spanish-Language TV Shows\"\n",
            " 'Romantic TV Shows, Spanish-Language TV Shows, TV Dramas'\n",
            " 'TV Action & Adventure, TV Comedies'\n",
            " 'Classic & Cult TV, TV Horror, TV Mysteries'\n",
            " 'Crime TV Shows, TV Comedies' \"Classic & Cult TV, Kids' TV, TV Comedies\"\n",
            " 'Classic & Cult TV, TV Sci-Fi & Fantasy'\n",
            " 'Classic & Cult TV, Crime TV Shows, TV Dramas']\n"
          ]
        }
      ]
    },
    {
      "cell_type": "markdown",
      "source": [
        "Number of times each value is repeated in each column:"
      ],
      "metadata": {
        "id": "cRG0yYRRwh4m"
      }
    },
    {
      "cell_type": "code",
      "source": [
        "df['title'].value_counts()"
      ],
      "metadata": {
        "colab": {
          "base_uri": "https://localhost:8080/"
        },
        "id": "5vjG1EKKqxJm",
        "outputId": "0b19f5aa-57dd-4f47-ce09-4d89028cd118"
      },
      "execution_count": 11,
      "outputs": [
        {
          "output_type": "execute_result",
          "data": {
            "text/plain": [
              "9-Feb                   2\n",
              "15-Aug                  2\n",
              "22-Jul                  2\n",
              "Dick Johnson Is Dead    1\n",
              "SGT. Will Gardner       1\n",
              "                       ..\n",
              "Mercy Black             1\n",
              "The Trap                1\n",
              "Pinky Memsaab           1\n",
              "Love O2O                1\n",
              "YOM                     1\n",
              "Name: title, Length: 8787, dtype: int64"
            ]
          },
          "metadata": {},
          "execution_count": 11
        }
      ]
    },
    {
      "cell_type": "code",
      "source": [
        "df['country'].value_counts()"
      ],
      "metadata": {
        "colab": {
          "base_uri": "https://localhost:8080/"
        },
        "id": "PDUHdrldq4Ae",
        "outputId": "b42d97f1-a8a3-4945-e8b6-00de202a1dfa"
      },
      "execution_count": 12,
      "outputs": [
        {
          "output_type": "execute_result",
          "data": {
            "text/plain": [
              "United States     3240\n",
              "India             1057\n",
              "United Kingdom     638\n",
              "Pakistan           421\n",
              "Not Given          287\n",
              "                  ... \n",
              "Iran                 1\n",
              "West Germany         1\n",
              "Greece               1\n",
              "Zimbabwe             1\n",
              "Soviet Union         1\n",
              "Name: country, Length: 86, dtype: int64"
            ]
          },
          "metadata": {},
          "execution_count": 12
        }
      ]
    },
    {
      "cell_type": "code",
      "source": [
        "df['rating'].value_counts()"
      ],
      "metadata": {
        "colab": {
          "base_uri": "https://localhost:8080/"
        },
        "id": "qauBXMNErAVO",
        "outputId": "ec2594e2-0597-48df-d34b-edb813acc42d"
      },
      "execution_count": 13,
      "outputs": [
        {
          "output_type": "execute_result",
          "data": {
            "text/plain": [
              "TV-MA       3205\n",
              "TV-14       2157\n",
              "TV-PG        861\n",
              "R            799\n",
              "PG-13        490\n",
              "TV-Y7        333\n",
              "TV-Y         306\n",
              "PG           287\n",
              "TV-G         220\n",
              "NR            79\n",
              "G             41\n",
              "TV-Y7-FV       6\n",
              "NC-17          3\n",
              "UR             3\n",
              "Name: rating, dtype: int64"
            ]
          },
          "metadata": {},
          "execution_count": 13
        }
      ]
    },
    {
      "cell_type": "code",
      "source": [
        "df['listed_in'].value_counts()"
      ],
      "metadata": {
        "colab": {
          "base_uri": "https://localhost:8080/"
        },
        "id": "RUUx7BBxrJH2",
        "outputId": "8bde8404-e8fc-45a6-c166-e35a9402ac64"
      },
      "execution_count": 14,
      "outputs": [
        {
          "output_type": "execute_result",
          "data": {
            "text/plain": [
              "Dramas, International Movies                                362\n",
              "Documentaries                                               359\n",
              "Stand-Up Comedy                                             334\n",
              "Comedies, Dramas, International Movies                      274\n",
              "Dramas, Independent Movies, International Movies            252\n",
              "                                                           ... \n",
              "Anime Features                                                1\n",
              "Action & Adventure, Horror Movies, Independent Movies         1\n",
              "Action & Adventure, Classic Movies, International Movies      1\n",
              "Cult Movies, Independent Movies, Thrillers                    1\n",
              "Classic & Cult TV, Crime TV Shows, TV Dramas                  1\n",
              "Name: listed_in, Length: 513, dtype: int64"
            ]
          },
          "metadata": {},
          "execution_count": 14
        }
      ]
    },
    {
      "cell_type": "code",
      "source": [
        "df['type'].value_counts()"
      ],
      "metadata": {
        "colab": {
          "base_uri": "https://localhost:8080/"
        },
        "id": "ST9oN7wdrPpe",
        "outputId": "49d97bc9-0df9-4933-8085-247079288690"
      },
      "execution_count": 15,
      "outputs": [
        {
          "output_type": "execute_result",
          "data": {
            "text/plain": [
              "Movie      6126\n",
              "TV Show    2664\n",
              "Name: type, dtype: int64"
            ]
          },
          "metadata": {},
          "execution_count": 15
        }
      ]
    },
    {
      "cell_type": "markdown",
      "source": [
        "# Visualization"
      ],
      "metadata": {
        "id": "wGa6jVqJwo9m"
      }
    },
    {
      "cell_type": "code",
      "source": [
        "sns.countplot(x='type',data=df)\n",
        "plt.title(\"Movies vs TV Shows\")\n",
        "plt.show()"
      ],
      "metadata": {
        "id": "HplIf-8Jsrgn",
        "colab": {
          "base_uri": "https://localhost:8080/",
          "height": 472
        },
        "outputId": "5d505c83-860f-486d-db96-4f99aaade2b0"
      },
      "execution_count": 18,
      "outputs": [
        {
          "output_type": "display_data",
          "data": {
            "text/plain": [
              "<Figure size 640x480 with 1 Axes>"
            ],
            "image/png": "[encoded data removed]"
          },
          "metadata": {}
        }
      ]
    },
    {
      "cell_type": "markdown",
      "source": [
        "**Inference:**\n",
        "The number of movie watchers are greater than the number of TV show watchers."
      ],
      "metadata": {
        "id": "OCMDNh09qCN0"
      }
    },
    {
      "cell_type": "code",
      "source": [
        "sns.countplot(x='rating',data=df,order=df['rating'].value_counts().index)\n",
        "plt.title(\"Ratings\")\n",
        "plt.xticks(rotation=45)\n",
        "plt.show()"
      ],
      "metadata": {
        "colab": {
          "base_uri": "https://localhost:8080/",
          "height": 510
        },
        "id": "eD7n3IF6pic-",
        "outputId": "f79812c1-2f50-4d62-ba7b-9d6c2de1e2d9"
      },
      "execution_count": 19,
      "outputs": [
        {
          "output_type": "display_data",
          "data": {
            "text/plain": [
              "<Figure size 640x480 with 1 Axes>"
            ],
            "image/png": "[encoded data removed]"
          },
          "metadata": {}
        }
      ]
    },
    {
      "cell_type": "markdown",
      "source": [
        "**Inference:**\n",
        "The movies with TV-MA rating are more popular."
      ],
      "metadata": {
        "id": "NfAp_Mu9rG1B"
      }
    },
    {
      "cell_type": "code",
      "source": [
        "sns.boxplot(x='type',y='release_year',data=df)\n",
        "plt.title(\"Release Year by Type\")\n",
        "plt.show()"
      ],
      "metadata": {
        "colab": {
          "base_uri": "https://localhost:8080/",
          "height": 472
        },
        "id": "25pnIP90qpWq",
        "outputId": "38dbfdc9-a954-4964-9b9c-59aa6babe183"
      },
      "execution_count": 20,
      "outputs": [
        {
          "output_type": "display_data",
          "data": {
            "text/plain": [
              "<Figure size 640x480 with 1 Axes>"
            ],
            "image/png": "[encoded data removed]"
          },
          "metadata": {}
        }
      ]
    },
    {
      "cell_type": "markdown",
      "source": [
        "**Inference:**\n",
        "The number of movies and TV shows released each year has increased dramatically over time."
      ],
      "metadata": {
        "id": "vSCIqAyervSh"
      }
    },
    {
      "cell_type": "code",
      "source": [
        "top_countries = df['country'].value_counts().head(10)\n",
        "sns.barplot(x=top_countries.values, y=top_countries.index)\n",
        "plt.title(\"Top 10 Countries with Most Production\")\n",
        "plt.xlabel(\"Count\")\n",
        "plt.show()"
      ],
      "metadata": {
        "colab": {
          "base_uri": "https://localhost:8080/",
          "height": 472
        },
        "id": "RuRueBnwrcQr",
        "outputId": "57c0e826-7aec-4360-c499-9ed5b6e238e9"
      },
      "execution_count": 21,
      "outputs": [
        {
          "output_type": "display_data",
          "data": {
            "text/plain": [
              "<Figure size 640x480 with 1 Axes>"
            ],
            "image/png": "[encoded data removed]"
          },
          "metadata": {}
        }
      ]
    },
    {
      "cell_type": "markdown",
      "source": [
        "**Inference:**\n",
        "The United States has the most production, followed by India and the United Kingdom. The production levels of these countries are significantly higher than the other countries on the list. For example, the United States has a production level of over 2,500, while India has a production level of about 1,500 and the United Kingdom has a production level of about 1,000."
      ],
      "metadata": {
        "id": "HjUslY3vsr5B"
      }
    },
    {
      "cell_type": "code",
      "source": [
        "plt.figure(figsize=(8,8))\n",
        "df['type'].value_counts().plot.pie(autopct='%1.1f%%',startangle=90)\n",
        "plt.title(\"Distribution of Tv Shows and Movies\")\n",
        "plt.show()"
      ],
      "metadata": {
        "colab": {
          "base_uri": "https://localhost:8080/",
          "height": 675
        },
        "id": "VY2G_HnosNub",
        "outputId": "7b8a94f5-5c92-40c8-b4ed-5afd6bde3280"
      },
      "execution_count": 22,
      "outputs": [
        {
          "output_type": "display_data",
          "data": {
            "text/plain": [
              "<Figure size 800x800 with 1 Axes>"
            ],
            "image/png": "[encoded data removed]"
          },
          "metadata": {}
        }
      ]
    },
    {
      "cell_type": "markdown",
      "source": [
        "**Inference:**\n",
        "The majority of content available on Netflix are movies, as represented by the larger pie slice."
      ],
      "metadata": {
        "id": "VvSqGuaJvDuH"
      }
    },
    {
      "cell_type": "code",
      "source": [
        "plt.figure(figsize=(10,6))\n",
        "sns.histplot(df['release_year'],bins=30,kde=True)\n",
        "plt.title(\"Histogram of Release Years\")\n",
        "plt.show()"
      ],
      "metadata": {
        "colab": {
          "base_uri": "https://localhost:8080/",
          "height": 564
        },
        "id": "OwPmaJH5tZpL",
        "outputId": "ca265287-e18d-4a0f-90de-5d9952061033"
      },
      "execution_count": 23,
      "outputs": [
        {
          "output_type": "display_data",
          "data": {
            "text/plain": [
              "<Figure size 1000x600 with 1 Axes>"
            ],
            "image/png": "[encoded data removed]"
          },
          "metadata": {}
        }
      ]
    },
    {
      "cell_type": "markdown",
      "source": [
        "**Inference:**\n",
        "There may be cyclical patterns to movie production. The graph shows some peaks and valleys in the number of movies released each year. For example, there seems to be a peak in the early 1980s and the early 2010s. This could be due to a number of factors, such as changes in the economy, technology, or popular culture."
      ],
      "metadata": {
        "id": "5p_xzr_2vVdo"
      }
    },
    {
      "cell_type": "code",
      "source": [
        "plt.figure(figsize=(20,8))\n",
        "sns.pairplot(df.select_dtypes(include=['int64']))\n",
        "plt.suptitle(\"Pairplot for Numerical Variables\")\n",
        "plt.show()"
      ],
      "metadata": {
        "colab": {
          "base_uri": "https://localhost:8080/",
          "height": 289
        },
        "id": "-4jSgVgWuAZa",
        "outputId": "6b129f41-c78f-45cf-9e72-b202d29be9f6"
      },
      "execution_count": 27,
      "outputs": [
        {
          "output_type": "display_data",
          "data": {
            "text/plain": [
              "<Figure size 2000x800 with 0 Axes>"
            ]
          },
          "metadata": {}
        },
        {
          "output_type": "display_data",
          "data": {
            "text/plain": [
              "<Figure size 250x250 with 2 Axes>"
            ],
            "image/png": "[encoded data removed]"
          },
          "metadata": {}
        }
      ]
    },
    {
      "cell_type": "markdown",
      "source": [
        "**Inference:**\n",
        "There are some relationships between the numerical variables. This is because the points in the scatter plots are not just randomly scattered around the graph, but tend to cluster together or show some kind of pattern. The stronger the relationship between two variables, the more the points will cluster together in a line or some other shape."
      ],
      "metadata": {
        "id": "8gutslPDvpHn"
      }
    }
  ]
}